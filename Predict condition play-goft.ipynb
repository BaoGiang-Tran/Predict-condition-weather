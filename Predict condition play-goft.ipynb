{
 "cells": [
  {
   "cell_type": "code",
   "execution_count": 2,
   "id": "3731b6a2",
   "metadata": {},
   "outputs": [],
   "source": [
    "import numpy as np\n",
    "import pandas as pd \n",
    "import matplotlib.pyplot as plt \n",
    "import seaborn as sns\n",
    "import warnings \n",
    "warnings.filterwarnings('ignore')"
   ]
  },
  {
   "cell_type": "code",
   "execution_count": 9,
   "id": "53a565d3",
   "metadata": {},
   "outputs": [],
   "source": [
    "df = pd.read_excel('Play_Golf.xlsx',sheet_name='Data')"
   ]
  },
  {
   "cell_type": "code",
   "execution_count": 10,
   "id": "5f4fdaf8",
   "metadata": {},
   "outputs": [
    {
     "data": {
      "text/html": [
       "<div>\n",
       "<style scoped>\n",
       "    .dataframe tbody tr th:only-of-type {\n",
       "        vertical-align: middle;\n",
       "    }\n",
       "\n",
       "    .dataframe tbody tr th {\n",
       "        vertical-align: top;\n",
       "    }\n",
       "\n",
       "    .dataframe thead th {\n",
       "        text-align: right;\n",
       "    }\n",
       "</style>\n",
       "<table border=\"1\" class=\"dataframe\">\n",
       "  <thead>\n",
       "    <tr style=\"text-align: right;\">\n",
       "      <th></th>\n",
       "      <th>Day</th>\n",
       "      <th>Outlook</th>\n",
       "      <th>Temperature</th>\n",
       "      <th>Humidity</th>\n",
       "      <th>Wind</th>\n",
       "      <th>Play Golf</th>\n",
       "    </tr>\n",
       "  </thead>\n",
       "  <tbody>\n",
       "    <tr>\n",
       "      <th>0</th>\n",
       "      <td>1</td>\n",
       "      <td>Sunny</td>\n",
       "      <td>Hot</td>\n",
       "      <td>High</td>\n",
       "      <td>Weak</td>\n",
       "      <td>No</td>\n",
       "    </tr>\n",
       "    <tr>\n",
       "      <th>1</th>\n",
       "      <td>2</td>\n",
       "      <td>Sunny</td>\n",
       "      <td>Hot</td>\n",
       "      <td>High</td>\n",
       "      <td>Strong</td>\n",
       "      <td>No</td>\n",
       "    </tr>\n",
       "    <tr>\n",
       "      <th>2</th>\n",
       "      <td>3</td>\n",
       "      <td>Overcast</td>\n",
       "      <td>Hot</td>\n",
       "      <td>High</td>\n",
       "      <td>Weak</td>\n",
       "      <td>Yes</td>\n",
       "    </tr>\n",
       "    <tr>\n",
       "      <th>3</th>\n",
       "      <td>4</td>\n",
       "      <td>Rain</td>\n",
       "      <td>Mild</td>\n",
       "      <td>High</td>\n",
       "      <td>Weak</td>\n",
       "      <td>Yes</td>\n",
       "    </tr>\n",
       "    <tr>\n",
       "      <th>4</th>\n",
       "      <td>5</td>\n",
       "      <td>Rain</td>\n",
       "      <td>Cool</td>\n",
       "      <td>Normal</td>\n",
       "      <td>Weak</td>\n",
       "      <td>Yes</td>\n",
       "    </tr>\n",
       "  </tbody>\n",
       "</table>\n",
       "</div>"
      ],
      "text/plain": [
       "   Day   Outlook Temperature Humidity    Wind Play Golf\n",
       "0    1     Sunny         Hot     High    Weak        No\n",
       "1    2     Sunny         Hot     High  Strong        No\n",
       "2    3  Overcast         Hot     High    Weak       Yes\n",
       "3    4      Rain        Mild     High    Weak       Yes\n",
       "4    5      Rain        Cool   Normal    Weak       Yes"
      ]
     },
     "execution_count": 10,
     "metadata": {},
     "output_type": "execute_result"
    }
   ],
   "source": [
    "df.head()"
   ]
  },
  {
   "cell_type": "code",
   "execution_count": 11,
   "id": "f61f2723",
   "metadata": {},
   "outputs": [
    {
     "name": "stdout",
     "output_type": "stream",
     "text": [
      "<class 'pandas.core.frame.DataFrame'>\n",
      "RangeIndex: 14 entries, 0 to 13\n",
      "Data columns (total 6 columns):\n",
      " #   Column       Non-Null Count  Dtype \n",
      "---  ------       --------------  ----- \n",
      " 0   Day          14 non-null     int64 \n",
      " 1   Outlook      14 non-null     object\n",
      " 2   Temperature  14 non-null     object\n",
      " 3   Humidity     14 non-null     object\n",
      " 4   Wind         14 non-null     object\n",
      " 5   Play Golf    14 non-null     object\n",
      "dtypes: int64(1), object(5)\n",
      "memory usage: 800.0+ bytes\n"
     ]
    }
   ],
   "source": [
    "df.info()"
   ]
  },
  {
   "cell_type": "markdown",
   "id": "bdd85e94",
   "metadata": {},
   "source": [
    "## Xác định X (input) và y (target)"
   ]
  },
  {
   "cell_type": "code",
   "execution_count": 19,
   "id": "56e9fc1b",
   "metadata": {},
   "outputs": [
    {
     "data": {
      "text/html": [
       "<div>\n",
       "<style scoped>\n",
       "    .dataframe tbody tr th:only-of-type {\n",
       "        vertical-align: middle;\n",
       "    }\n",
       "\n",
       "    .dataframe tbody tr th {\n",
       "        vertical-align: top;\n",
       "    }\n",
       "\n",
       "    .dataframe thead th {\n",
       "        text-align: right;\n",
       "    }\n",
       "</style>\n",
       "<table border=\"1\" class=\"dataframe\">\n",
       "  <thead>\n",
       "    <tr style=\"text-align: right;\">\n",
       "      <th></th>\n",
       "      <th>Outlook</th>\n",
       "      <th>Temperature</th>\n",
       "      <th>Humidity</th>\n",
       "      <th>Wind</th>\n",
       "    </tr>\n",
       "  </thead>\n",
       "  <tbody>\n",
       "    <tr>\n",
       "      <th>0</th>\n",
       "      <td>Sunny</td>\n",
       "      <td>Hot</td>\n",
       "      <td>High</td>\n",
       "      <td>Weak</td>\n",
       "    </tr>\n",
       "    <tr>\n",
       "      <th>1</th>\n",
       "      <td>Sunny</td>\n",
       "      <td>Hot</td>\n",
       "      <td>High</td>\n",
       "      <td>Strong</td>\n",
       "    </tr>\n",
       "    <tr>\n",
       "      <th>2</th>\n",
       "      <td>Overcast</td>\n",
       "      <td>Hot</td>\n",
       "      <td>High</td>\n",
       "      <td>Weak</td>\n",
       "    </tr>\n",
       "    <tr>\n",
       "      <th>3</th>\n",
       "      <td>Rain</td>\n",
       "      <td>Mild</td>\n",
       "      <td>High</td>\n",
       "      <td>Weak</td>\n",
       "    </tr>\n",
       "    <tr>\n",
       "      <th>4</th>\n",
       "      <td>Rain</td>\n",
       "      <td>Cool</td>\n",
       "      <td>Normal</td>\n",
       "      <td>Weak</td>\n",
       "    </tr>\n",
       "  </tbody>\n",
       "</table>\n",
       "</div>"
      ],
      "text/plain": [
       "    Outlook Temperature Humidity    Wind\n",
       "0     Sunny         Hot     High    Weak\n",
       "1     Sunny         Hot     High  Strong\n",
       "2  Overcast         Hot     High    Weak\n",
       "3      Rain        Mild     High    Weak\n",
       "4      Rain        Cool   Normal    Weak"
      ]
     },
     "execution_count": 19,
     "metadata": {},
     "output_type": "execute_result"
    }
   ],
   "source": [
    "X = df.drop(columns=['Day','Play Golf'])\n",
    "X.head()"
   ]
  },
  {
   "cell_type": "code",
   "execution_count": 20,
   "id": "241e6706",
   "metadata": {},
   "outputs": [],
   "source": [
    "y = df['Play Golf']"
   ]
  },
  {
   "cell_type": "markdown",
   "id": "da1973a8",
   "metadata": {},
   "source": [
    "**Feature Engineering**"
   ]
  },
  {
   "cell_type": "markdown",
   "id": "ddd16177",
   "metadata": {},
   "source": [
    "**Sử dụng dummies cho các thuộc tính input**"
   ]
  },
  {
   "cell_type": "code",
   "execution_count": 21,
   "id": "617d208c",
   "metadata": {},
   "outputs": [
    {
     "data": {
      "text/html": [
       "<div>\n",
       "<style scoped>\n",
       "    .dataframe tbody tr th:only-of-type {\n",
       "        vertical-align: middle;\n",
       "    }\n",
       "\n",
       "    .dataframe tbody tr th {\n",
       "        vertical-align: top;\n",
       "    }\n",
       "\n",
       "    .dataframe thead th {\n",
       "        text-align: right;\n",
       "    }\n",
       "</style>\n",
       "<table border=\"1\" class=\"dataframe\">\n",
       "  <thead>\n",
       "    <tr style=\"text-align: right;\">\n",
       "      <th></th>\n",
       "      <th>Outlook_Overcast</th>\n",
       "      <th>Outlook_Rain</th>\n",
       "      <th>Outlook_Sunny</th>\n",
       "      <th>Temperature_Cool</th>\n",
       "      <th>Temperature_Hot</th>\n",
       "      <th>Temperature_Mild</th>\n",
       "      <th>Humidity_High</th>\n",
       "      <th>Humidity_Normal</th>\n",
       "      <th>Wind_Strong</th>\n",
       "      <th>Wind_Weak</th>\n",
       "    </tr>\n",
       "  </thead>\n",
       "  <tbody>\n",
       "    <tr>\n",
       "      <th>0</th>\n",
       "      <td>0</td>\n",
       "      <td>0</td>\n",
       "      <td>1</td>\n",
       "      <td>0</td>\n",
       "      <td>1</td>\n",
       "      <td>0</td>\n",
       "      <td>1</td>\n",
       "      <td>0</td>\n",
       "      <td>0</td>\n",
       "      <td>1</td>\n",
       "    </tr>\n",
       "    <tr>\n",
       "      <th>1</th>\n",
       "      <td>0</td>\n",
       "      <td>0</td>\n",
       "      <td>1</td>\n",
       "      <td>0</td>\n",
       "      <td>1</td>\n",
       "      <td>0</td>\n",
       "      <td>1</td>\n",
       "      <td>0</td>\n",
       "      <td>1</td>\n",
       "      <td>0</td>\n",
       "    </tr>\n",
       "    <tr>\n",
       "      <th>2</th>\n",
       "      <td>1</td>\n",
       "      <td>0</td>\n",
       "      <td>0</td>\n",
       "      <td>0</td>\n",
       "      <td>1</td>\n",
       "      <td>0</td>\n",
       "      <td>1</td>\n",
       "      <td>0</td>\n",
       "      <td>0</td>\n",
       "      <td>1</td>\n",
       "    </tr>\n",
       "    <tr>\n",
       "      <th>3</th>\n",
       "      <td>0</td>\n",
       "      <td>1</td>\n",
       "      <td>0</td>\n",
       "      <td>0</td>\n",
       "      <td>0</td>\n",
       "      <td>1</td>\n",
       "      <td>1</td>\n",
       "      <td>0</td>\n",
       "      <td>0</td>\n",
       "      <td>1</td>\n",
       "    </tr>\n",
       "    <tr>\n",
       "      <th>4</th>\n",
       "      <td>0</td>\n",
       "      <td>1</td>\n",
       "      <td>0</td>\n",
       "      <td>1</td>\n",
       "      <td>0</td>\n",
       "      <td>0</td>\n",
       "      <td>0</td>\n",
       "      <td>1</td>\n",
       "      <td>0</td>\n",
       "      <td>1</td>\n",
       "    </tr>\n",
       "  </tbody>\n",
       "</table>\n",
       "</div>"
      ],
      "text/plain": [
       "   Outlook_Overcast  Outlook_Rain  Outlook_Sunny  Temperature_Cool  \\\n",
       "0                 0             0              1                 0   \n",
       "1                 0             0              1                 0   \n",
       "2                 1             0              0                 0   \n",
       "3                 0             1              0                 0   \n",
       "4                 0             1              0                 1   \n",
       "\n",
       "   Temperature_Hot  Temperature_Mild  Humidity_High  Humidity_Normal  \\\n",
       "0                1                 0              1                0   \n",
       "1                1                 0              1                0   \n",
       "2                1                 0              1                0   \n",
       "3                0                 1              1                0   \n",
       "4                0                 0              0                1   \n",
       "\n",
       "   Wind_Strong  Wind_Weak  \n",
       "0            0          1  \n",
       "1            1          0  \n",
       "2            0          1  \n",
       "3            0          1  \n",
       "4            0          1  "
      ]
     },
     "execution_count": 21,
     "metadata": {},
     "output_type": "execute_result"
    }
   ],
   "source": [
    "X_new = pd.get_dummies(data=X)\n",
    "X_new.head()"
   ]
  },
  {
   "cell_type": "markdown",
   "id": "dc840c43",
   "metadata": {},
   "source": [
    "**Sử dụng LabelEncoder cho thuộc tính target**"
   ]
  },
  {
   "cell_type": "code",
   "execution_count": 22,
   "id": "5afc2c6e",
   "metadata": {},
   "outputs": [],
   "source": [
    "from sklearn.preprocessing import LabelEncoder"
   ]
  },
  {
   "cell_type": "code",
   "execution_count": 23,
   "id": "7e68a1bd",
   "metadata": {},
   "outputs": [],
   "source": [
    "encoder = LabelEncoder()"
   ]
  },
  {
   "cell_type": "code",
   "execution_count": 24,
   "id": "c5076ba3",
   "metadata": {},
   "outputs": [
    {
     "data": {
      "text/plain": [
       "array([0, 0, 1, 1, 1, 0, 1, 0, 1, 1, 1, 1, 1, 0])"
      ]
     },
     "execution_count": 24,
     "metadata": {},
     "output_type": "execute_result"
    }
   ],
   "source": [
    "y_new = encoder.fit_transform(y)\n",
    "y_new"
   ]
  },
  {
   "cell_type": "markdown",
   "id": "5a3ce6b0",
   "metadata": {},
   "source": [
    "## Sử dụng BernoulliNB"
   ]
  },
  {
   "cell_type": "code",
   "execution_count": 25,
   "id": "a96472c1",
   "metadata": {},
   "outputs": [],
   "source": [
    "from sklearn.naive_bayes import BernoulliNB"
   ]
  },
  {
   "cell_type": "markdown",
   "id": "50aeeb47",
   "metadata": {},
   "source": [
    "**Khởi tạo model với BernoulliNB**"
   ]
  },
  {
   "cell_type": "code",
   "execution_count": 26,
   "id": "5c741cc3",
   "metadata": {},
   "outputs": [],
   "source": [
    "model = BernoulliNB()"
   ]
  },
  {
   "cell_type": "markdown",
   "id": "69b92875",
   "metadata": {},
   "source": [
    "**Huấn luyện model**"
   ]
  },
  {
   "cell_type": "code",
   "execution_count": 27,
   "id": "a0cb0fbb",
   "metadata": {},
   "outputs": [
    {
     "data": {
      "text/plain": [
       "BernoulliNB()"
      ]
     },
     "execution_count": 27,
     "metadata": {},
     "output_type": "execute_result"
    }
   ],
   "source": [
    "model.fit(X_new,y_new)"
   ]
  },
  {
   "cell_type": "markdown",
   "id": "11a0a169",
   "metadata": {},
   "source": [
    "**Yêu cầu: Với Outlook = Rain, Temperature = Cool, Humidity = High và Windy = Strong thì Play Golf = ?**"
   ]
  },
  {
   "cell_type": "markdown",
   "id": "32b745e0",
   "metadata": {},
   "source": [
    "Outlook_Overcast,\tOutlook_Rain,\tOutlook_Sunny,\tTemperature_Cool,\tTemperature_Hot,\tTemperature_Mild,\tHumidity_High,\tHumidity_Normal,\tWind_Strong\tWind_Weak"
   ]
  },
  {
   "cell_type": "markdown",
   "id": "936c84b9",
   "metadata": {},
   "source": [
    "**Tạo tập dữ liệu Test**"
   ]
  },
  {
   "cell_type": "code",
   "execution_count": 28,
   "id": "5851fd26",
   "metadata": {},
   "outputs": [],
   "source": [
    "X_test = [[0,1,0,1,0,0,1,0,1,0]]"
   ]
  },
  {
   "cell_type": "code",
   "execution_count": 29,
   "id": "276acca4",
   "metadata": {},
   "outputs": [
    {
     "data": {
      "text/plain": [
       "array([0])"
      ]
     },
     "execution_count": 29,
     "metadata": {},
     "output_type": "execute_result"
    }
   ],
   "source": [
    "y_pred = model.predict(X_test)\n",
    "y_pred"
   ]
  },
  {
   "cell_type": "markdown",
   "id": "0a7a98d0",
   "metadata": {},
   "source": [
    "**Nhận xét:\n",
    "Model dự đoán với điều kiện thời tiết Rain, cool, High, Strong thì không chơi Golf**"
   ]
  },
  {
   "cell_type": "markdown",
   "id": "a7cad36c",
   "metadata": {},
   "source": [
    "## Sử dụng GaussianNB"
   ]
  },
  {
   "cell_type": "code",
   "execution_count": 30,
   "id": "cfc025b6",
   "metadata": {},
   "outputs": [],
   "source": [
    "from sklearn.naive_bayes import GaussianNB"
   ]
  },
  {
   "cell_type": "markdown",
   "id": "bb30f3b8",
   "metadata": {},
   "source": [
    "**Khởi tạo model với GaussianNB**"
   ]
  },
  {
   "cell_type": "code",
   "execution_count": 31,
   "id": "9e0fe4cd",
   "metadata": {},
   "outputs": [],
   "source": [
    "model2 = GaussianNB()"
   ]
  },
  {
   "cell_type": "code",
   "execution_count": 32,
   "id": "01435f0e",
   "metadata": {},
   "outputs": [
    {
     "data": {
      "text/plain": [
       "GaussianNB()"
      ]
     },
     "execution_count": 32,
     "metadata": {},
     "output_type": "execute_result"
    }
   ],
   "source": [
    "model2.fit(X_new,y_new)"
   ]
  },
  {
   "cell_type": "code",
   "execution_count": 33,
   "id": "e7cca5ad",
   "metadata": {},
   "outputs": [
    {
     "data": {
      "text/plain": [
       "array([0])"
      ]
     },
     "execution_count": 33,
     "metadata": {},
     "output_type": "execute_result"
    }
   ],
   "source": [
    "y_pred2 = model2.predict(X_test)\n",
    "y_pred2"
   ]
  },
  {
   "cell_type": "markdown",
   "id": "12bed0da",
   "metadata": {},
   "source": [
    "**Nhận xét:\n",
    "Model dự đoán với điều kiện thời tiết Rain, cool, High, Strong thì không chơi Golf**"
   ]
  }
 ],
 "metadata": {
  "kernelspec": {
   "display_name": "Python 3 (ipykernel)",
   "language": "python",
   "name": "python3"
  },
  "language_info": {
   "codemirror_mode": {
    "name": "ipython",
    "version": 3
   },
   "file_extension": ".py",
   "mimetype": "text/x-python",
   "name": "python",
   "nbconvert_exporter": "python",
   "pygments_lexer": "ipython3",
   "version": "3.8.0"
  }
 },
 "nbformat": 4,
 "nbformat_minor": 5
}
